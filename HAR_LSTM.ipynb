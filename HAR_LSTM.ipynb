{
 "cells": [
  {
   "cell_type": "code",
   "execution_count": 1,
   "metadata": {},
   "outputs": [],
   "source": [
    "import tensorflow as tf"
   ]
  },
  {
   "cell_type": "code",
   "execution_count": 2,
   "metadata": {},
   "outputs": [
    {
     "name": "stdout",
     "output_type": "stream",
     "text": [
      "C:\\Users\\RANGA SRUJAN GOUD\\Downloads\\HumanActivityRecognition\n"
     ]
    }
   ],
   "source": [
    "cd C:\\Users\\RANGA SRUJAN GOUD\\Downloads\\HumanActivityRecognition"
   ]
  },
  {
   "cell_type": "code",
   "execution_count": 3,
   "metadata": {},
   "outputs": [
    {
     "data": {
      "text/plain": [
       "'C:\\\\Users\\\\RANGA SRUJAN GOUD\\\\Downloads\\\\HumanActivityRecognition'"
      ]
     },
     "execution_count": 3,
     "metadata": {},
     "output_type": "execute_result"
    }
   ],
   "source": [
    "pwd"
   ]
  },
  {
   "cell_type": "code",
   "execution_count": 4,
   "metadata": {},
   "outputs": [],
   "source": [
    "import pandas as pd\n",
    "import numpy as np"
   ]
  },
  {
   "cell_type": "code",
   "execution_count": 5,
   "metadata": {},
   "outputs": [],
   "source": [
    "# Activities are the class labels\n",
    "# It is a 6 class classification\n",
    "ACTIVITIES = {\n",
    "    0: 'WALKING',\n",
    "    1: 'WALKING_UPSTAIRS',\n",
    "    2: 'WALKING_DOWNSTAIRS',\n",
    "    3: 'SITTING',\n",
    "    4: 'STANDING',\n",
    "    5: 'LAYING',\n",
    "}\n",
    "\n",
    "# Utility function to print the confusion matrix\n",
    "def confusion_matrix(Y_true, Y_pred):\n",
    "    Y_true = pd.Series([ACTIVITIES[y] for y in np.argmax(Y_true, axis=1)])\n",
    "    Y_pred = pd.Series([ACTIVITIES[y] for y in np.argmax(Y_pred, axis=1)])\n",
    "\n",
    "    return pd.crosstab(Y_true, Y_pred, rownames=['True'], colnames=['Pred'])"
   ]
  },
  {
   "cell_type": "markdown",
   "metadata": {},
   "source": [
    "### Data"
   ]
  },
  {
   "cell_type": "code",
   "execution_count": 6,
   "metadata": {},
   "outputs": [],
   "source": [
    "# Data directory\n",
    "DATADIR = 'C:\\\\Users\\\\RANGA SRUJAN GOUD\\\\Downloads\\\\HumanActivityRecognition'"
   ]
  },
  {
   "cell_type": "code",
   "execution_count": 7,
   "metadata": {},
   "outputs": [],
   "source": [
    "# Raw data signals\n",
    "# Signals are from Accelerometer and Gyroscope\n",
    "# The signals are in x,y,z directions\n",
    "# Sensor signals are filtered to have only body acceleration\n",
    "# excluding the acceleration due to gravity\n",
    "# Triaxial acceleration from the accelerometer is total acceleration\n",
    "SIGNALS = [\n",
    "    \"body_acc_x\",\n",
    "    \"body_acc_y\",\n",
    "    \"body_acc_z\",\n",
    "    \"body_gyro_x\",\n",
    "    \"body_gyro_y\",\n",
    "    \"body_gyro_z\",\n",
    "    \"total_acc_x\",\n",
    "    \"total_acc_y\",\n",
    "    \"total_acc_z\"\n",
    "]"
   ]
  },
  {
   "cell_type": "code",
   "execution_count": 8,
   "metadata": {},
   "outputs": [],
   "source": [
    "# Utility function to read the data from csv file\n",
    "def _read_csv(filename):\n",
    "    return pd.read_csv(filename, delim_whitespace=True, header=None)\n",
    "\n",
    "# Utility function to load the load\n",
    "def load_signals(subset):\n",
    "    signals_data = []\n",
    "\n",
    "    for signal in SIGNALS:\n",
    "        filename = fr'C:\\Users\\RANGA SRUJAN GOUD\\Downloads\\HumanActivityRecognition\\HAR\\UCI_HAR_Dataset/{subset}/Inertial Signals/{signal}_{subset}.txt'\n",
    "        signals_data.append(\n",
    "            _read_csv(filename).to_numpy ()\n",
    "        ) \n",
    "\n",
    "    # Transpose is used to change the dimensionality of the output,\n",
    "    # aggregating the signals by combination of sample/timestep.\n",
    "    # Resultant shape is (7352 train/2947 test samples, 128 timesteps, 9 signals)\n",
    "    return np.transpose(signals_data, (1, 2, 0))"
   ]
  },
  {
   "cell_type": "code",
   "execution_count": 9,
   "metadata": {},
   "outputs": [],
   "source": [
    "\n",
    "def load_y(subset):\n",
    "    \"\"\"\n",
    "    The objective that we are trying to predict is a integer, from 1 to 6,\n",
    "    that represents a human activity. We return a binary representation of \n",
    "    every sample objective as a 6 bits vector using One Hot Encoding\n",
    "    (https://pandas.pydata.org/pandas-docs/stable/generated/pandas.get_dummies.html)\n",
    "    \"\"\"\n",
    "    filename = fr'C:\\Users\\RANGA SRUJAN GOUD\\Downloads\\HumanActivityRecognition\\HAR\\UCI_HAR_Dataset/{subset}/y_{subset}.txt'\n",
    "    y = _read_csv(filename)[0]\n",
    "\n",
    "    return pd.get_dummies(y).to_numpy ()"
   ]
  },
  {
   "cell_type": "code",
   "execution_count": 10,
   "metadata": {},
   "outputs": [],
   "source": [
    "def load_data():\n",
    "    \"\"\"\n",
    "    Obtain the dataset from multiple files.\n",
    "    Returns: X_train, X_test, y_train, y_test\n",
    "    \"\"\"\n",
    "    X_train, X_test = load_signals('train'), load_signals('test')\n",
    "    y_train, y_test = load_y('train'), load_y('test')\n",
    "\n",
    "    return X_train, X_test, y_train, y_test\n",
    "\n"
   ]
  },
  {
   "cell_type": "code",
   "execution_count": 11,
   "metadata": {},
   "outputs": [],
   "source": [
    "# Importing tensorflow\n",
    "np.random.seed(42)\n",
    "import tensorflow as tf\n",
    "tf.random.set_seed(42)"
   ]
  },
  {
   "cell_type": "code",
   "execution_count": 12,
   "metadata": {},
   "outputs": [],
   "source": [
    "# Configuring a session\n",
    "session_conf = tf.compat.v1.ConfigProto(\n",
    "    intra_op_parallelism_threads=1,\n",
    "    inter_op_parallelism_threads=1\n",
    ")"
   ]
  },
  {
   "cell_type": "code",
   "execution_count": 13,
   "metadata": {},
   "outputs": [
    {
     "name": "stderr",
     "output_type": "stream",
     "text": [
      "Using TensorFlow backend.\n"
     ]
    }
   ],
   "source": [
    "# Import Keras\n",
    "from keras import backend as K\n",
    "sess =  tf.compat.v1.Session(graph=tf.compat.v1.get_default_graph(), config=session_conf)\n",
    "tf.compat.v1.keras.backend.set_session(sess)"
   ]
  },
  {
   "cell_type": "code",
   "execution_count": 14,
   "metadata": {},
   "outputs": [],
   "source": [
    "# Importing libraries\n",
    "from keras.models import Sequential\n",
    "from keras.layers import LSTM\n",
    "from keras.layers.core import Dense, Dropout"
   ]
  },
  {
   "cell_type": "code",
   "execution_count": 15,
   "metadata": {},
   "outputs": [],
   "source": [
    "# Initializing parameters\n",
    "epochs = 30\n",
    "batch_size = 16\n",
    "n_hidden = 50"
   ]
  },
  {
   "cell_type": "code",
   "execution_count": 16,
   "metadata": {},
   "outputs": [],
   "source": [
    "# Utility function to count the number of classes\n",
    "def _count_classes(y):\n",
    "    return len(set([tuple(category) for category in y]))"
   ]
  },
  {
   "cell_type": "code",
   "execution_count": 17,
   "metadata": {},
   "outputs": [],
   "source": [
    "# Loading the train and test data\n",
    "X_train, X_test, Y_train, Y_test = load_data()"
   ]
  },
  {
   "cell_type": "code",
   "execution_count": 18,
   "metadata": {},
   "outputs": [
    {
     "name": "stdout",
     "output_type": "stream",
     "text": [
      "128\n",
      "9\n",
      "7352\n"
     ]
    }
   ],
   "source": [
    "timesteps = len(X_train[0])\n",
    "input_dim = len(X_train[0][0])\n",
    "n_classes = _count_classes(Y_train)\n",
    "\n",
    "print(timesteps)\n",
    "print(input_dim)\n",
    "print(len(X_train))"
   ]
  },
  {
   "cell_type": "code",
   "execution_count": 46,
   "metadata": {},
   "outputs": [
    {
     "name": "stdout",
     "output_type": "stream",
     "text": [
      "Model: \"sequential_11\"\n",
      "_________________________________________________________________\n",
      "Layer (type)                 Output Shape              Param #   \n",
      "=================================================================\n",
      "lstm_19 (LSTM)               (None, 128, 32)           5376      \n",
      "_________________________________________________________________\n",
      "lstm_20 (LSTM)               (None, 32)                8320      \n",
      "_________________________________________________________________\n",
      "dropout_7 (Dropout)          (None, 32)                0         \n",
      "_________________________________________________________________\n",
      "dense_7 (Dense)              (None, 6)                 198       \n",
      "=================================================================\n",
      "Total params: 13,894\n",
      "Trainable params: 13,894\n",
      "Non-trainable params: 0\n",
      "_________________________________________________________________\n"
     ]
    }
   ],
   "source": [
    "# Initiliazing the sequential model\n",
    "model = Sequential()\n",
    "# Configuring the parameters\n",
    "model.add(LSTM(n_hidden,return_sequences=True, input_shape=(timesteps, input_dim)))\n",
    "model.add(LSTM(32))\n",
    "# Adding a dropout layer\n",
    "model.add(Dropout(0.7))\n",
    "# Adding a dense output layer with sigmoid activation\n",
    "model.add(Dense(n_classes, activation='sigmoid'))\n",
    "model.summary()"
   ]
  },
  {
   "cell_type": "code",
   "execution_count": 47,
   "metadata": {},
   "outputs": [],
   "source": [
    "# Compiling the model\n",
    "model.compile(loss='categorical_crossentropy',\n",
    "              optimizer='rmsprop',\n",
    "              metrics=['accuracy'])"
   ]
  },
  {
   "cell_type": "code",
   "execution_count": 48,
   "metadata": {},
   "outputs": [
    {
     "name": "stdout",
     "output_type": "stream",
     "text": [
      "Train on 7352 samples, validate on 2947 samples\n",
      "Epoch 1/30\n",
      "7352/7352 [==============================] - 588s 80ms/step - loss: 1.1837 - accuracy: 0.5184 - val_loss: 0.8697 - val_accuracy: 0.6556\n",
      "Epoch 2/30\n",
      "7352/7352 [==============================] - 584s 79ms/step - loss: 0.8519 - accuracy: 0.6206 - val_loss: 0.7855 - val_accuracy: 0.6233\n",
      "Epoch 3/30\n",
      "7352/7352 [==============================] - 585s 80ms/step - loss: 0.8042 - accuracy: 0.6583 - val_loss: 0.7334 - val_accuracy: 0.6865\n",
      "Epoch 4/30\n",
      "7352/7352 [==============================] - 580s 79ms/step - loss: 0.7347 - accuracy: 0.7035 - val_loss: 0.6298 - val_accuracy: 0.7465\n",
      "Epoch 5/30\n",
      "7352/7352 [==============================] - 579s 79ms/step - loss: 0.6225 - accuracy: 0.7658 - val_loss: 0.5329 - val_accuracy: 0.7906\n",
      "Epoch 6/30\n",
      "7352/7352 [==============================] - 579s 79ms/step - loss: 0.5196 - accuracy: 0.8255 - val_loss: 0.5285 - val_accuracy: 0.8354\n",
      "Epoch 7/30\n",
      "7352/7352 [==============================] - 988s 134ms/step - loss: 0.4634 - accuracy: 0.8685 - val_loss: 0.4027 - val_accuracy: 0.8714\n",
      "Epoch 8/30\n",
      "7352/7352 [==============================] - 597s 81ms/step - loss: 0.3790 - accuracy: 0.8931 - val_loss: 0.5316 - val_accuracy: 0.8419\n",
      "Epoch 9/30\n",
      "7352/7352 [==============================] - 594s 81ms/step - loss: 0.3291 - accuracy: 0.9151 - val_loss: 0.5402 - val_accuracy: 0.8565\n",
      "Epoch 10/30\n",
      "7352/7352 [==============================] - 603s 82ms/step - loss: 0.3102 - accuracy: 0.9178 - val_loss: 0.4164 - val_accuracy: 0.8870\n",
      "Epoch 11/30\n",
      "7352/7352 [==============================] - 607s 83ms/step - loss: 0.2977 - accuracy: 0.9227 - val_loss: 0.3735 - val_accuracy: 0.9006\n",
      "Epoch 12/30\n",
      "7352/7352 [==============================] - 589s 80ms/step - loss: 0.2546 - accuracy: 0.9278 - val_loss: 0.3430 - val_accuracy: 0.8982\n",
      "Epoch 13/30\n",
      "7352/7352 [==============================] - 582s 79ms/step - loss: 0.2470 - accuracy: 0.9272 - val_loss: 0.4066 - val_accuracy: 0.8951\n",
      "Epoch 14/30\n",
      "7352/7352 [==============================] - 600s 82ms/step - loss: 0.2556 - accuracy: 0.9227 - val_loss: 0.3373 - val_accuracy: 0.8965\n",
      "Epoch 15/30\n",
      "7352/7352 [==============================] - 607s 83ms/step - loss: 0.2330 - accuracy: 0.9329 - val_loss: 0.3424 - val_accuracy: 0.8979\n",
      "Epoch 16/30\n",
      "7352/7352 [==============================] - 607s 83ms/step - loss: 0.2247 - accuracy: 0.9376 - val_loss: 0.2999 - val_accuracy: 0.9108\n",
      "Epoch 17/30\n",
      "7352/7352 [==============================] - 607s 83ms/step - loss: 0.2116 - accuracy: 0.9342 - val_loss: 0.4852 - val_accuracy: 0.8782\n",
      "Epoch 18/30\n",
      "7352/7352 [==============================] - 617s 84ms/step - loss: 0.2280 - accuracy: 0.9344 - val_loss: 0.5943 - val_accuracy: 0.8768\n",
      "Epoch 19/30\n",
      "7352/7352 [==============================] - 624s 85ms/step - loss: 0.2045 - accuracy: 0.9328 - val_loss: 0.4796 - val_accuracy: 0.9060\n",
      "Epoch 20/30\n",
      "7352/7352 [==============================] - 620s 84ms/step - loss: 0.2004 - accuracy: 0.9378 - val_loss: 0.4211 - val_accuracy: 0.9002\n",
      "Epoch 21/30\n",
      "7352/7352 [==============================] - 676s 92ms/step - loss: 0.2354 - accuracy: 0.9300 - val_loss: 0.3806 - val_accuracy: 0.9060\n",
      "Epoch 22/30\n",
      "7352/7352 [==============================] - 696s 95ms/step - loss: 0.2079 - accuracy: 0.9319 - val_loss: 0.3017 - val_accuracy: 0.9087\n",
      "Epoch 23/30\n",
      "7352/7352 [==============================] - 691s 94ms/step - loss: 0.2028 - accuracy: 0.9387 - val_loss: 0.3597 - val_accuracy: 0.8989\n",
      "Epoch 24/30\n",
      "7352/7352 [==============================] - 636s 87ms/step - loss: 0.1995 - accuracy: 0.9380 - val_loss: 0.3988 - val_accuracy: 0.9077\n",
      "Epoch 25/30\n",
      "7352/7352 [==============================] - 629s 86ms/step - loss: 0.1842 - accuracy: 0.9380 - val_loss: 0.6507 - val_accuracy: 0.8758\n",
      "Epoch 26/30\n",
      "7352/7352 [==============================] - 623s 85ms/step - loss: 0.1771 - accuracy: 0.9374 - val_loss: 0.4044 - val_accuracy: 0.9091\n",
      "Epoch 27/30\n",
      "7352/7352 [==============================] - 657s 89ms/step - loss: 0.1951 - accuracy: 0.9387 - val_loss: 0.3857 - val_accuracy: 0.9087\n",
      "Epoch 28/30\n",
      "7352/7352 [==============================] - 671s 91ms/step - loss: 0.1787 - accuracy: 0.9400 - val_loss: 0.3787 - val_accuracy: 0.9046\n",
      "Epoch 29/30\n",
      "7352/7352 [==============================] - 704s 96ms/step - loss: 0.1812 - accuracy: 0.9399 - val_loss: 0.5500 - val_accuracy: 0.8965\n",
      "Epoch 30/30\n",
      "7352/7352 [==============================] - 676s 92ms/step - loss: 0.1879 - accuracy: 0.9406 - val_loss: 0.4498 - val_accuracy: 0.8989\n"
     ]
    },
    {
     "data": {
      "text/plain": [
       "<keras.callbacks.callbacks.History at 0x1718bb0b708>"
      ]
     },
     "execution_count": 48,
     "metadata": {},
     "output_type": "execute_result"
    }
   ],
   "source": [
    "# Training the model\n",
    "model.fit(X_train,\n",
    "          Y_train,\n",
    "          batch_size=batch_size,\n",
    "          validation_data=(X_test, Y_test),\n",
    "          epochs=epochs)"
   ]
  },
  {
   "cell_type": "code",
   "execution_count": 49,
   "metadata": {},
   "outputs": [
    {
     "name": "stdout",
     "output_type": "stream",
     "text": [
      "Pred                LAYING  SITTING  STANDING  WALKING  WALKING_DOWNSTAIRS  \\\n",
      "True                                                                         \n",
      "LAYING                 510        0        27        0                   0   \n",
      "SITTING                  0      324       163        1                   3   \n",
      "STANDING                 0       44       482        6                   0   \n",
      "WALKING                  0        0         0      461                   1   \n",
      "WALKING_DOWNSTAIRS       0        0         0        0                 414   \n",
      "WALKING_UPSTAIRS         0        0         0        3                  10   \n",
      "\n",
      "Pred                WALKING_UPSTAIRS  \n",
      "True                                  \n",
      "LAYING                             0  \n",
      "SITTING                            0  \n",
      "STANDING                           0  \n",
      "WALKING                           34  \n",
      "WALKING_DOWNSTAIRS                 6  \n",
      "WALKING_UPSTAIRS                 458  \n"
     ]
    }
   ],
   "source": [
    "# Confusion Matrix\n",
    "print(confusion_matrix(Y_test, model.predict(X_test)))"
   ]
  },
  {
   "cell_type": "code",
   "execution_count": 50,
   "metadata": {},
   "outputs": [
    {
     "name": "stdout",
     "output_type": "stream",
     "text": [
      "2947/2947 [==============================] - 6s 2ms/step\n"
     ]
    }
   ],
   "source": [
    "score = model.evaluate(X_test, Y_test)"
   ]
  },
  {
   "cell_type": "code",
   "execution_count": 51,
   "metadata": {},
   "outputs": [
    {
     "data": {
      "text/plain": [
       "[0.449774045493475, 0.8988802433013916]"
      ]
     },
     "execution_count": 51,
     "metadata": {},
     "output_type": "execute_result"
    }
   ],
   "source": [
    "score"
   ]
  },
  {
   "cell_type": "markdown",
   "metadata": {},
   "source": [
    "- With a simple 2 layer architecture we got 90.09% accuracy and a loss of 0.30\n",
    "- We can further imporve the performace with Hyperparameter tuning"
   ]
  },
  {
   "cell_type": "code",
   "execution_count": null,
   "metadata": {},
   "outputs": [],
   "source": []
  },
  {
   "cell_type": "code",
   "execution_count": null,
   "metadata": {},
   "outputs": [],
   "source": []
  },
  {
   "cell_type": "code",
   "execution_count": null,
   "metadata": {},
   "outputs": [],
   "source": []
  }
 ],
 "metadata": {
  "kernelspec": {
   "display_name": "Python 3",
   "language": "python",
   "name": "python3"
  },
  "language_info": {
   "codemirror_mode": {
    "name": "ipython",
    "version": 3
   },
   "file_extension": ".py",
   "mimetype": "text/x-python",
   "name": "python",
   "nbconvert_exporter": "python",
   "pygments_lexer": "ipython3",
   "version": "3.7.7"
  }
 },
 "nbformat": 4,
 "nbformat_minor": 4
}
